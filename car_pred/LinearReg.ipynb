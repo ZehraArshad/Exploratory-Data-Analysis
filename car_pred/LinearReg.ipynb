{
 "cells": [
  {
   "cell_type": "code",
   "execution_count": null,
   "id": "776241a9",
   "metadata": {},
   "outputs": [],
   "source": []
  },
  {
   "cell_type": "code",
   "execution_count": null,
   "id": "2d747205",
   "metadata": {},
   "outputs": [],
   "source": [
    "data = pd.read_csv('data/cars_price.csv')"
   ]
  }
 ],
 "metadata": {
  "language_info": {
   "name": "python"
  }
 },
 "nbformat": 4,
 "nbformat_minor": 5
}
